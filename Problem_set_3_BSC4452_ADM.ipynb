{
 "cells": [
  {
   "cell_type": "code",
   "execution_count": 1,
   "id": "9971f2b3-bd6a-4065-b995-ff9b31d767fa",
   "metadata": {
    "tags": []
   },
   "outputs": [],
   "source": [
    "### BSC4452 / 6451 Problem Set 3 Water Level"
   ]
  },
  {
   "cell_type": "code",
   "execution_count": 61,
   "id": "9b2018d9-4581-4dc7-b178-d334a748d86a",
   "metadata": {
    "tags": []
   },
   "outputs": [],
   "source": [
    "#Opening the file \n",
    "def open_file():\n",
    "    try:\n",
    "        my_fhand = open('/blue/bsc4452/admontalvo/Class_Files/data/CO-OPS__8729108__wl.csv')\n",
    "        #print(\"File opened for reading\") #Testing to see if file opened\n",
    "        return my_fhand\n",
    "    except:\n",
    "        print(\"File cannot be found\") #If file does not open a print statement will let you know"
   ]
  },
  {
   "cell_type": "code",
   "execution_count": 6,
   "id": "1318e55b-a9d4-4cd0-889c-42cd57235b6b",
   "metadata": {},
   "outputs": [
    {
     "name": "stdout",
     "output_type": "stream",
     "text": [
      "/blue/bsc4452/admontalvo/Jupyter_content\n"
     ]
    }
   ],
   "source": [
    "!pwd"
   ]
  },
  {
   "cell_type": "code",
   "execution_count": 62,
   "id": "0f137da0-d32d-46be-9bc7-a64b73dfddb3",
   "metadata": {},
   "outputs": [
    {
     "name": "stdout",
     "output_type": "stream",
     "text": [
      "Line count: 725\n",
      "Date and time when the maximum water level was recorded: 2018-10-10 18:06\n",
      "Maximum Water Level: 6.647\n"
     ]
    }
   ],
   "source": [
    "#Problem 1 Write a script (or Jupyter Notebook code block) that opens the file, uses a for loop to read through \n",
    "#the file line by line and reports the highest water level and the date and time that was observed.\n",
    "\n",
    "fhand = open_file()\n",
    "count = 0\n",
    "max_water_level = 0 \n",
    "max_water_date = ' '\n",
    "fhand.readline()\n",
    "\n",
    "#Reading line by line in the file\n",
    "for line in fhand:\n",
    "    count = count + 1 \n",
    "    line = line.strip()\n",
    "    #print line\n",
    "    \n",
    "    #spitting the columns \n",
    "    columns = line.split(sep=',')\n",
    "    try:\n",
    "         water_level = float(columns[1])\n",
    "    except:\n",
    "        #print(\"No water level data\") #Used to see if the water_level = float columns works which it does not since there is no value at the header\n",
    "        continue\n",
    "    water_date = columns[0]\n",
    "   \n",
    "    if water_level > max_water_level:\n",
    "        max_water_level = water_level\n",
    "        max_water_date = water_date\n",
    "    \n",
    "   \n",
    "        \n",
    "#print('Line count:', count) #count the number of lines\n",
    "print('Date and time when the maximum water level was recorded:', max_water_date)\n",
    "print('Maximum Water Level:', max_water_level)\n"
   ]
  },
  {
   "cell_type": "code",
   "execution_count": 55,
   "id": "f79c6929-8456-408c-b51a-e536724ec5ec",
   "metadata": {},
   "outputs": [
    {
     "name": "stdout",
     "output_type": "stream",
     "text": [
      "File opened for reading\n",
      "Line count: 724\n",
      "Date and time when the maximum water level was recorded: 2018-10-10 18:06 Maximum Water Level: 6.647\n",
      "Date and time when the minimum water level was recorded: 2018-10-11 15:36 Minimum Water Level: 1.621\n",
      "Average Water Level: 2.982\n"
     ]
    }
   ],
   "source": [
    "# Problem 2 Either in a new script or modifying the above script, calculate the lowest, highest and average water level\n",
    "#observed during the time period. As above, print the date and time for the lowest and highest readings\n",
    "\n",
    "fhand = open_file()\n",
    "count = 0\n",
    "max_water_level = 0 \n",
    "max_water_date = ' '\n",
    "min_water_level = 100 #setting minum count to 100 for counting in reverse\n",
    "min_water_date = ' '\n",
    "water_sum = 0\n",
    "fhand.readline()\n",
    "\n",
    "for line in fhand:\n",
    "   \n",
    "    line = line.strip()\n",
    "    #print line\n",
    "    \n",
    "    columns = line.split(sep=',')\n",
    "    try:\n",
    "        water_level = float(columns[1])\n",
    "        count = count + 1 \n",
    "        water_sum = water_sum + water_level #Defining a variable to add the water levels as the script reads line by line\n",
    "    except:\n",
    "        #print(\"No water level data\")\n",
    "        continue\n",
    "    water_date = columns[0]\n",
    "    \n",
    "   #if Statement to print maximum water level\n",
    "    if water_level > max_water_level:\n",
    "        max_water_level = water_level\n",
    "        max_water_date = water_date\n",
    "        \n",
    "   #if Statement for minimum water level     \n",
    "    if water_level < min_water_level:\n",
    "        min_water_level = water_level\n",
    "        min_water_date = water_date\n",
    "         \n",
    "\n",
    "#print('Line count:', count)\n",
    "print('Date and time when the maximum water level was recorded:', max_water_date, 'Maximum Water Level:', max_water_level)\n",
    "print('Date and time when the minimum water level was recorded:', min_water_date, 'Minimum Water Level:', min_water_level)\n",
    "print('Average Water Level:', round(water_sum/count, 3)) #rounding to 3 decimal places for consistency with min and max water level\n",
    " "
   ]
  },
  {
   "cell_type": "code",
   "execution_count": 54,
   "id": "867fb2ec-127d-40a4-9bea-e0b8016e94e1",
   "metadata": {},
   "outputs": [
    {
     "name": "stdout",
     "output_type": "stream",
     "text": [
      "File opened for reading\n",
      "Date and time when there was the largest change in water level: 2018-10-10 17:42 Change in Water Level: 0.64\n"
     ]
    }
   ],
   "source": [
    "#Write a script (or Jupyter Notebook) that calculates the fastest rise in water level per 6-minute period\n",
    "#between measurements (for this assignment, assume that each line of the dataset is a 6-minute interval) and reports\n",
    "#the date and time that was observed and the change in water level from the previous recording.\n",
    "\n",
    "fhand = open_file()\n",
    "count = 0\n",
    "max_water_level = 0 \n",
    "max_water_date = ' '\n",
    "min_water_level = 100 \n",
    "min_water_date = ' '\n",
    "water_sum = 0\n",
    "max_change = 0\n",
    "max_change_date = ' '\n",
    "fhand.readline()\n",
    "\n",
    "for line in fhand:\n",
    "   \n",
    "    line = line.strip()\n",
    "    #print line\n",
    "    \n",
    "    columns = line.split(sep=',')\n",
    "    try:\n",
    "        water_level = float(columns[1])\n",
    "        count = count + 1 \n",
    "        water_sum = water_sum + water_level\n",
    "    except:\n",
    "        #print(\"No water level data\")\n",
    "        continue\n",
    "    water_date = columns[0]\n",
    "   \n",
    "    #if water_level > max_water_level:\n",
    "        #max_water_level = water_level\n",
    "        #max_water_date = water_date\n",
    "        \n",
    "    #if water_level < min_water_level:\n",
    "        #min_water_level = water_level\n",
    "        #min_water_date = water_date\n",
    "    \n",
    "    try:\n",
    "        water_change = water_level - previous_water #subtracting the current water level from the previous reading\n",
    "    except:\n",
    "        previous_water = water_level\n",
    "        continue\n",
    "        \n",
    "    if water_change > max_change:\n",
    "        max_change = water_change\n",
    "        max_change_date = water_date\n",
    "    \n",
    "    previous_water = water_level\n",
    "        \n",
    "#print('Line count:', count)\n",
    "#print(max_water_level, max_water_date)\n",
    "#print(min_water_level, min_water_date)\n",
    "#print(water_sum/count)\n",
    "print('Date and time when there was the largest change in water level:', max_change_date ,'Change in Water Level:', round(max_change, 3))"
   ]
  },
  {
   "cell_type": "code",
   "execution_count": 67,
   "id": "db4d65c8-cfe2-4d38-9be4-9b11423aa2b4",
   "metadata": {},
   "outputs": [
    {
     "name": "stdout",
     "output_type": "stream",
     "text": [
      "The water level increases more than 0.25 since the previous recording ('Change in water level:', 0.3019999999999996)\n",
      "The water level increases more than 0.25 since the previous recording ('Change in water level:', 0.2789999999999999)\n",
      "The water level is over 5.0 ('Water Level:', 5.591)\n",
      "The water level increases more than 0.25 since the previous recording ('Change in water level:', 0.6400000000000006)\n",
      "The water level is over 5.0 ('Water Level:', 5.958)\n",
      "The water level increases more than 0.25 since the previous recording ('Change in water level:', 0.367)\n",
      "The water level is over 5.0 ('Water Level:', 6.404)\n",
      "The water level increases more than 0.25 since the previous recording ('Change in water level:', 0.44599999999999973)\n",
      "The water level is over 5.0 ('Water Level:', 6.575)\n",
      "The water level is over 5.0 ('Water Level:', 6.647)\n",
      "The water level is over 5.0 ('Water Level:', 6.503)\n",
      "No reading is received at a time point\n",
      "The water level is over 5.0 ('Water Level:', 6.309)\n",
      "The water level is over 5.0 ('Water Level:', 6.024)\n",
      "The water level is over 5.0 ('Water Level:', 5.725)\n",
      "The water level is over 5.0 ('Water Level:', 5.699)\n",
      "The water level is over 5.0 ('Water Level:', 5.449)\n",
      "The water level is over 5.0 ('Water Level:', 5.338)\n",
      "The water level is over 5.0 ('Water Level:', 5.22)\n"
     ]
    }
   ],
   "source": [
    "#Imagine that the file is providing live readings of the water level. Write a script (or Jupyter Notebook) to print a line of text with a warning if any of these events occur:\n",
    "#•\tThe water level increases more than 0.25 since the previous recording.\n",
    "#•\tThe water level is over 5.0.\n",
    "#•\tNo reading is received at a time point.\n",
    "\n",
    "\n",
    "fhand = open_file()\n",
    "count = 0\n",
    "max_water_level = 0 \n",
    "max_water_date = ' '\n",
    "min_water_level = 100 \n",
    "min_water_date = ' '\n",
    "water_sum = 0\n",
    "max_change = 0\n",
    "max_change_date = ' '\n",
    "fhand.readline()\n",
    "\n",
    "for line in fhand:\n",
    "   \n",
    "    line = line.strip()\n",
    "    #print line\n",
    "    \n",
    "    columns = line.split(sep=',')\n",
    "    try:\n",
    "        water_level = float(columns[1])\n",
    "        count = count + 1 \n",
    "        water_sum = water_sum + water_level\n",
    "    except:\n",
    "        print(\"No reading is received at a time point\")\n",
    "        continue\n",
    "    water_date = columns[0]\n",
    "   \n",
    "    if water_level > max_water_level:\n",
    "        max_water_level = water_level\n",
    "        max_water_date = water_date\n",
    "    \n",
    "    if water_level < min_water_level:\n",
    "        min_water_level = water_level\n",
    "        min_water_date = water_date\n",
    "    if water_level > 5.0:\n",
    "        print(\"The water level is over 5.0\", ('Water Level:', water_level))\n",
    "    \n",
    "    try:\n",
    "        water_change = water_level - previous_water\n",
    "    except:\n",
    "        previous_water = water_level\n",
    "        continue\n",
    "        \n",
    "    if water_change > max_change:\n",
    "        max_change = water_change\n",
    "        max_change_date = water_date\n",
    "        \n",
    "    if water_change > 0.25:\n",
    "        print('The water level increases more than 0.25 since the previous recording', ('Change in water level:', water_change))\n",
    "    \n",
    "    previous_water = water_level\n",
    "        \n",
    "#print('Line count:', count)\n",
    "#print(max_water_level, max_water_date)\n",
    "#print(min_water_level, min_water_date)\n",
    "#print(water_sum/count)\n",
    "#print(max_change, max_change_date)"
   ]
  },
  {
   "cell_type": "code",
   "execution_count": 11,
   "id": "cfb17aae-12b6-44bf-ab85-31499c58db21",
   "metadata": {},
   "outputs": [
    {
     "ename": "NameError",
     "evalue": "name 'columns' is not defined",
     "output_type": "error",
     "traceback": [
      "\u001b[0;31m---------------------------------------------------------------------------\u001b[0m",
      "\u001b[0;31mNameError\u001b[0m                                 Traceback (most recent call last)",
      "\u001b[0;32m/scratch/local/49496382/ipykernel_77446/2033400851.py\u001b[0m in \u001b[0;36m<cell line: 1>\u001b[0;34m()\u001b[0m\n\u001b[0;32m----> 1\u001b[0;31m \u001b[0mprint\u001b[0m\u001b[0;34m(\u001b[0m\u001b[0mcolumns\u001b[0m\u001b[0;34m)\u001b[0m\u001b[0;34m\u001b[0m\u001b[0;34m\u001b[0m\u001b[0m\n\u001b[0m",
      "\u001b[0;31mNameError\u001b[0m: name 'columns' is not defined"
     ]
    }
   ],
   "source": [
    "print(columns)"
   ]
  }
 ],
 "metadata": {
  "kernelspec": {
   "display_name": "UFRC Python-3.10",
   "language": "python",
   "name": "python3-3.10-ufrc"
  },
  "language_info": {
   "codemirror_mode": {
    "name": "ipython",
    "version": 3
   },
   "file_extension": ".py",
   "mimetype": "text/x-python",
   "name": "python",
   "nbconvert_exporter": "python",
   "pygments_lexer": "ipython3",
   "version": "3.10.5"
  }
 },
 "nbformat": 4,
 "nbformat_minor": 5
}
